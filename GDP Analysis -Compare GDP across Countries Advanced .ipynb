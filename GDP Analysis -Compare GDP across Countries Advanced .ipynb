{
 "cells": [
  {
   "cell_type": "code",
   "execution_count": 23,
   "id": "77b60631-23f9-45db-9938-feacc0a10ce7",
   "metadata": {},
   "outputs": [
    {
     "data": {
      "text/html": [
       "<div>\n",
       "<style scoped>\n",
       "    .dataframe tbody tr th:only-of-type {\n",
       "        vertical-align: middle;\n",
       "    }\n",
       "\n",
       "    .dataframe tbody tr th {\n",
       "        vertical-align: top;\n",
       "    }\n",
       "\n",
       "    .dataframe thead th {\n",
       "        text-align: right;\n",
       "    }\n",
       "</style>\n",
       "<table border=\"1\" class=\"dataframe\">\n",
       "  <thead>\n",
       "    <tr style=\"text-align: right;\">\n",
       "      <th></th>\n",
       "      <th>Country Name</th>\n",
       "      <th>Country Code</th>\n",
       "      <th>Year</th>\n",
       "      <th>Value</th>\n",
       "      <th>GDP</th>\n",
       "    </tr>\n",
       "  </thead>\n",
       "  <tbody>\n",
       "    <tr>\n",
       "      <th>0</th>\n",
       "      <td>Arab World</td>\n",
       "      <td>ARB</td>\n",
       "      <td>1968</td>\n",
       "      <td>2.576068e+10</td>\n",
       "      <td>0.00</td>\n",
       "    </tr>\n",
       "    <tr>\n",
       "      <th>1</th>\n",
       "      <td>Arab World</td>\n",
       "      <td>ARB</td>\n",
       "      <td>1969</td>\n",
       "      <td>2.843420e+10</td>\n",
       "      <td>10.38</td>\n",
       "    </tr>\n",
       "    <tr>\n",
       "      <th>2</th>\n",
       "      <td>Arab World</td>\n",
       "      <td>ARB</td>\n",
       "      <td>1970</td>\n",
       "      <td>3.138550e+10</td>\n",
       "      <td>10.38</td>\n",
       "    </tr>\n",
       "    <tr>\n",
       "      <th>3</th>\n",
       "      <td>Arab World</td>\n",
       "      <td>ARB</td>\n",
       "      <td>1971</td>\n",
       "      <td>3.642691e+10</td>\n",
       "      <td>16.06</td>\n",
       "    </tr>\n",
       "    <tr>\n",
       "      <th>4</th>\n",
       "      <td>Arab World</td>\n",
       "      <td>ARB</td>\n",
       "      <td>1972</td>\n",
       "      <td>4.331606e+10</td>\n",
       "      <td>18.91</td>\n",
       "    </tr>\n",
       "  </tbody>\n",
       "</table>\n",
       "</div>"
      ],
      "text/plain": [
       "  Country Name Country Code  Year         Value    GDP\n",
       "0   Arab World          ARB  1968  2.576068e+10   0.00\n",
       "1   Arab World          ARB  1969  2.843420e+10  10.38\n",
       "2   Arab World          ARB  1970  3.138550e+10  10.38\n",
       "3   Arab World          ARB  1971  3.642691e+10  16.06\n",
       "4   Arab World          ARB  1972  4.331606e+10  18.91"
      ]
     },
     "execution_count": 23,
     "metadata": {},
     "output_type": "execute_result"
    }
   ],
   "source": [
    "import os\n",
    "import pandas as pd\n",
    "import plotly.express as px\n",
    "import plotly.offline as pyo\n",
    "\n",
    "df = pd.read_csv('gdp.csv')\n",
    "\n",
    "final_data = []\n",
    "\n",
    "for country_name in df['Country Name'].unique():\n",
    "    df_pr = df[df['Country Name'] ==country_name]\n",
    "    data =df_pr.values\n",
    "    gdp_change = [0]\n",
    "\n",
    "    for i in range(1, len(data)):\n",
    "        prev = data[i-1][3]\n",
    "        cur = data[i][3]\n",
    "        gdp_change.append(round(((cur-prev)/prev)*100,2))\n",
    "\n",
    "    df_pr = df_pr.assign(GDP = gdp_change)\n",
    "    final_data.append(df_pr)\n",
    "\n",
    "df = pd.concat(final_data, axis = 0)\n",
    "\n",
    "df.head()"
   ]
  },
  {
   "cell_type": "markdown",
   "id": "f2330cbf-aa5c-494a-bc51-52294269a8e4",
   "metadata": {},
   "source": [
    "##GDP Comparison between Specific Countries "
   ]
  },
  {
   "cell_type": "code",
   "execution_count": 3,
   "id": "f88524c8-1ee4-4e79-ba57-63e9253e9286",
   "metadata": {},
   "outputs": [],
   "source": [
    "lst = ['ITA' ,'IND', 'USA', 'CHN']\n",
    "\n",
    "dfs = []\n",
    "for i in lst :\n",
    "    dfs.append(df[df['Country Code'] == i])\n",
    "\n",
    "    df_pr = pd.concat(dfs, axis = 0)"
   ]
  },
  {
   "cell_type": "code",
   "execution_count": 4,
   "id": "40309663-40b2-44f7-b71e-9058baa8d5d1",
   "metadata": {},
   "outputs": [
    {
     "data": {
      "text/plain": [
       "array(['Italy', 'India', 'United States', 'China'], dtype=object)"
      ]
     },
     "execution_count": 4,
     "metadata": {},
     "output_type": "execute_result"
    }
   ],
   "source": [
    "df_pr['Country Name'].unique()"
   ]
  },
  {
   "cell_type": "code",
   "execution_count": 5,
   "id": "ac2b85a5-57f1-4c04-97e6-420b997b7861",
   "metadata": {},
   "outputs": [
    {
     "data": {
      "text/plain": [
       "'WLD|CHN.html'"
      ]
     },
     "execution_count": 5,
     "metadata": {},
     "output_type": "execute_result"
    }
   ],
   "source": [
    "fig = px.line(df_pr , x ='Year' , y = 'Value' , title = 'GDP Comparison', color = 'Country Name')\n",
    "\n",
    "pyo.plot(fig, filename = 'WLD|CHN.html')"
   ]
  },
  {
   "cell_type": "code",
   "execution_count": 6,
   "id": "a12c9792-a972-4234-8ef0-9612edf6d408",
   "metadata": {},
   "outputs": [],
   "source": [
    "lst = ['IND', 'ITA' , 'USA', 'CHN'] ## gives same order of city in graph\n",
    "\n",
    "dfs = []\n",
    "for i in lst :\n",
    "    dfs.append(df[df['Country Code'] == i])\n",
    "\n",
    "    df_pr = pd.concat(dfs, axis = 0)"
   ]
  },
  {
   "cell_type": "code",
   "execution_count": 7,
   "id": "31c75eb2-ddb8-4c45-b0b8-cd91f368451a",
   "metadata": {},
   "outputs": [
    {
     "data": {
      "text/plain": [
       "'IND|ITA|USA|CHN.html'"
      ]
     },
     "execution_count": 7,
     "metadata": {},
     "output_type": "execute_result"
    }
   ],
   "source": [
    "fig = px.line(df_pr , x ='Year' , y = 'Value' , title = 'GDP Comparison - '+ '|'.join(lst), color = 'Country Name')\n",
    "\n",
    "pyo.plot(fig, filename = '|'.join(lst) + '.html') ## join is used to show the name of countries we are comparing and given in list"
   ]
  },
  {
   "cell_type": "code",
   "execution_count": 8,
   "id": "0ecfaf07-6f25-4dd7-b850-2c92cdd0f8f7",
   "metadata": {},
   "outputs": [
    {
     "data": {
      "text/plain": [
       "'IND|ITA|USA|CHN.html'"
      ]
     },
     "execution_count": 8,
     "metadata": {},
     "output_type": "execute_result"
    }
   ],
   "source": [
    "'|'.join(lst) + '.html'"
   ]
  },
  {
   "cell_type": "code",
   "execution_count": 9,
   "id": "95c5e8f4-2bda-4d2e-a63e-4091717fdeeb",
   "metadata": {},
   "outputs": [
    {
     "data": {
      "text/plain": [
       "'IND|ITA|USA|CHN.html'"
      ]
     },
     "execution_count": 9,
     "metadata": {},
     "output_type": "execute_result"
    }
   ],
   "source": [
    "##lst = ['IND', 'ITA' , 'USA', 'CHN'] \n",
    "\n",
    "def compare_gdp(lst):\n",
    "    \n",
    "\n",
    " dfs = []\n",
    " for i in lst :\n",
    "    dfs.append(df[df['Country Code'] == i])\n",
    "\n",
    "    df_pr = pd.concat(dfs, axis = 0)\n",
    "    fig = px.line(df_pr , x ='Year' , y = 'Value' , title = 'GDP Comparison - '+ '|'.join(lst), color = 'Country Name')\n",
    "\n",
    "pyo.plot(fig, filename = '|'.join(lst) + '.html')"
   ]
  },
  {
   "cell_type": "code",
   "execution_count": 10,
   "id": "2f172ff2-c060-492a-8070-79b7d68a4b5e",
   "metadata": {},
   "outputs": [],
   "source": [
    "compare_gdp(['IND','CHN','ITA'])"
   ]
  },
  {
   "cell_type": "code",
   "execution_count": 11,
   "id": "eaf3d182-afde-4a2e-9cea-46625e229d94",
   "metadata": {},
   "outputs": [],
   "source": [
    "## compare_gdp(lst,isOpen) here if we give value of isOpen as True,graph will open automatically ,but if given v alue is false ,we have to manually open the graph"
   ]
  },
  {
   "cell_type": "code",
   "execution_count": null,
   "id": "ffe01964-bee4-4752-b6ff-b3b01d0502d5",
   "metadata": {},
   "outputs": [],
   "source": []
  }
 ],
 "metadata": {
  "kernelspec": {
   "display_name": "Python [conda env:anaconda3]",
   "language": "python",
   "name": "conda-env-anaconda3-py"
  },
  "language_info": {
   "codemirror_mode": {
    "name": "ipython",
    "version": 3
   },
   "file_extension": ".py",
   "mimetype": "text/x-python",
   "name": "python",
   "nbconvert_exporter": "python",
   "pygments_lexer": "ipython3",
   "version": "3.12.7"
  }
 },
 "nbformat": 4,
 "nbformat_minor": 5
}
